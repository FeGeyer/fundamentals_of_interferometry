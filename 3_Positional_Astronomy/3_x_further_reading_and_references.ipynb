{
 "cells": [
  {
   "cell_type": "markdown",
   "metadata": {
    "collapsed": true,
    "deletable": true,
    "editable": true
   },
   "source": [
    "***\n",
    "\n",
    "* [Outline](../0_Introduction/0_introduction.ipynb)\n",
    "* [Glossary](../0_Introduction/1_glossary.ipynb)\n",
    "* <a class='pos_chp_def'></a> \n",
    "    * <a class='pos_sec_dir_def'></a>   \n",
    "    * Next: [Chapter 4: Visibility Space](../4_Visibility_Space/4_0_introduction.ipynb)\n",
    "\n",
    "***"
   ]
  },
  {
   "cell_type": "markdown",
   "metadata": {
    "deletable": true,
    "editable": true
   },
   "source": [
    "Import standard modules:"
   ]
  },
  {
   "cell_type": "code",
   "execution_count": 7,
   "metadata": {
    "collapsed": false,
    "deletable": true,
    "editable": true
   },
   "outputs": [
    {
     "data": {
      "text/html": [
       "<style>\n",
       "\n",
       "p.prerequisites {\n",
       "    border:5px;\n",
       "    border-style:none;\n",
       "    background-color:#F0F0F0;\n",
       "    box-shadow: 5px 5px 2px #888888;\n",
       "    border-color:#FF0000;\n",
       "    padding: 1em;\n",
       "    }\n",
       "\n",
       "p.conclusion {\n",
       "    border:5px;\n",
       "    border-style:none;\n",
       "    background-color:#c8ebca;\n",
       "    box-shadow: 5px 5px 2px #888888;\n",
       "    border-color:#c8ebca;\n",
       "    padding: 1em;\n",
       "    }\n",
       "\n",
       "div.warn {    \n",
       "    background-color: #fcf2f2;\n",
       "    border-color: #dFb5b4;\n",
       "    border-left: 5px solid #dfb5b4;\n",
       "    padding: 0.5em;\n",
       "    }\n",
       "\n",
       "div.advice {    \n",
       "    background-color: #ecf8ed;\n",
       "    border-color: #a2dda5;\n",
       "    border-left: 5px solid #a2dda5;\n",
       "    padding: 0.5em;\n",
       "    }\n",
       "\n",
       "</style>\n",
       "\n"
      ],
      "text/plain": [
       "<IPython.core.display.HTML object>"
      ]
     },
     "execution_count": 7,
     "metadata": {},
     "output_type": "execute_result"
    }
   ],
   "source": [
    "import numpy as np\n",
    "import matplotlib.pyplot as plt\n",
    "%matplotlib inline\n",
    "from IPython.display import HTML \n",
    "HTML('../style/course.css') #apply general CSS"
   ]
  },
  {
   "cell_type": "code",
   "execution_count": 8,
   "metadata": {
    "collapsed": false,
    "deletable": true,
    "editable": true
   },
   "outputs": [
    {
     "data": {
      "text/html": [
       "<script>\n",
       "    code_show=false; \n",
       "    function code_toggle() {\n",
       "        if (code_show){\n",
       "            $('div.input').hide();\n",
       "        } else {\n",
       "            $('div.input').show();\n",
       "        }\n",
       "        code_show = !code_show\n",
       "    } \n",
       "    $( document ).ready(code_toggle);\n",
       "</script>\n",
       "\n",
       "The raw code for this notebook is by default hidden for easier reading. To toggle on/off the raw code, click <a href=\"javascript:code_toggle()\">here</a>.\n",
       "\n"
      ],
      "text/plain": [
       "<IPython.core.display.HTML object>"
      ]
     },
     "execution_count": 8,
     "metadata": {},
     "output_type": "execute_result"
    }
   ],
   "source": [
    "from IPython.display import HTML\n",
    "HTML('../style/code_toggle.html')"
   ]
  },
  {
   "cell_type": "markdown",
   "metadata": {
    "deletable": true,
    "editable": true
   },
   "source": [
    "Referencing Code:"
   ]
  },
  {
   "cell_type": "code",
   "execution_count": 9,
   "metadata": {
    "collapsed": true,
    "deletable": true,
    "editable": true
   },
   "outputs": [],
   "source": [
    "##################################\n",
    "import os, sys\n",
    "init_path = os.path.abspath(os.path.join('../init/'))\n",
    "sys.path.append(init_path)\n",
    "\n",
    "import pickle\n",
    "from incfunc import init_ipyref_filename, ipy_label, ipy_ref\n",
    "from IPython.display import HTML \n",
    "\n",
    "ipyrefname=init_ipyref_filename()\n",
    "\n",
    "try:\n",
    "    init_ipyref\n",
    "except NameError:\n",
    "    f = open(ipyrefname, 'rb')\n",
    "    sdict = pickle.load(f)\n",
    "    f.close()\n",
    "    debug_lvl=0\n",
    "    if debug_lvl > 10: print 'loaded', ipyrefname\n",
    "else :\n",
    "    if debug_lvl > 10: print \"Running through mainlist for updating reference\"\n",
    "\n",
    "if debug_lvl > 100:\n",
    "    print sdict.keys()\n",
    "    print sdict.values()\n",
    "##################################\n",
    "lfilename='../3_Positional_Astronomy/3_x_further_reading_and_references.ipynb'\n",
    "##################################"
   ]
  },
  {
   "cell_type": "markdown",
   "metadata": {
    "deletable": true,
    "editable": true
   },
   "source": [
    "Adding labels and references:"
   ]
  },
  {
   "cell_type": "code",
   "execution_count": 10,
   "metadata": {
    "collapsed": false,
    "deletable": true,
    "editable": true
   },
   "outputs": [
    {
     "data": {
      "text/html": [
       "<script>var cval=document.getElementsByClassName(\"pos_chp_def\");    var i;    for (i = 0; i < cval.length; i++) {    cval[i].href=\"../3_Positional_Astronomy/3_0_introduction.ipynb#pos_chp\";    cval[i].title=\"\";    cval[i].innerHTML = \"&#8493 3 Positional Astronomy &#8594\";    }</script><script>var cval=document.getElementsByClassName(\"pos_sec_dir_def\");    var i;    for (i = 0; i < cval.length; i++) {    cval[i].href=\"../3_Positional_Astronomy/3_4_direction_cosine_coordinates.ipynb#pos_sec_dir\";    cval[i].title=\"\";    cval[i].innerHTML = \"&sect 3.4 Direction Cosine Coordinates &#8594\";    }</script><script>var aval=document.getElementById(\"pos_sec_fur\");    if(aval!==null){    aval.href=\"../3_Positional_Astronomy/3_x_further_reading_and_references.ipynb#pos_sec_fur\";    aval.title=\"\";    aval.innerHTML = \"&sect 3.5 Further Reading and References\";    }var cval=document.getElementsByClassName(\"pos_sec_fur\");    var i;    for (i = 0; i < cval.length; i++) {    cval[i].href=\"../3_Positional_Astronomy/3_x_further_reading_and_references.ipynb#pos_sec_fur\";    cval[i].title=\"\";    cval[i].innerHTML = \"&sect 3.5 Further Reading and References &#8631\";    }</script><script>var aval=document.getElementById(\"pos_sec_pa\");    if(aval!==null){    aval.href=\"../3_Positional_Astronomy/3_x_further_reading_and_references.ipynb#pos_sec_pa\";    aval.title=\"\";    aval.innerHTML = \"&sect 3.5.1 Positional Astronomy\";    }var cval=document.getElementsByClassName(\"pos_sec_pa\");    var i;    for (i = 0; i < cval.length; i++) {    cval[i].href=\"../3_Positional_Astronomy/3_x_further_reading_and_references.ipynb#pos_sec_pa\";    cval[i].title=\"\";    cval[i].innerHTML = \"&sect 3.5.1 Positional Astronomy &#8631\";    }</script><script>var aval=document.getElementById(\"pos_sec_ga\");    if(aval!==null){    aval.href=\"../3_Positional_Astronomy/3_x_further_reading_and_references.ipynb#pos_sec_ga\";    aval.title=\"\";    aval.innerHTML = \"&sect 3.5.2 General Astronomy\";    }var cval=document.getElementsByClassName(\"pos_sec_ga\");    var i;    for (i = 0; i < cval.length; i++) {    cval[i].href=\"../3_Positional_Astronomy/3_x_further_reading_and_references.ipynb#pos_sec_ga\";    cval[i].title=\"\";    cval[i].innerHTML = \"&sect 3.5.2 General Astronomy &#8631\";    }</script>"
      ],
      "text/plain": [
       "<IPython.core.display.HTML object>"
      ]
     },
     "execution_count": 10,
     "metadata": {},
     "output_type": "execute_result"
    }
   ],
   "source": [
    "#HEADER AND FOOTER\n",
    "rstr=ipy_ref(sdict, 'pos_chp', titlestr='Positional Astronomy', idsub='_def', debug_lvl=0, sfilename=lfilename)\n",
    "rstr+=ipy_ref(sdict, 'pos_sec_dir', titlestr='Direction Cosine Coordinates', idsub='_def', debug_lvl=0, sfilename=lfilename)\n",
    "#NOTEBOOK LABELS\n",
    "rstr+=ipy_label(sdict, 'section','pos_sec_fur', 'Further Reading and References', sfilename=lfilename)\n",
    "rstr+=ipy_label(sdict, 'subsection','pos_sec_pa', 'Positional Astronomy', sfilename=lfilename)\n",
    "rstr+=ipy_label(sdict, 'subsection','pos_sec_ga', 'General Astronomy', sfilename=lfilename)\n",
    "HTML(rstr)"
   ]
  },
  {
   "cell_type": "markdown",
   "metadata": {
    "deletable": true,
    "editable": true
   },
   "source": [
    "## <a id='pos_sec_fur'></a>"
   ]
  },
  {
   "cell_type": "markdown",
   "metadata": {
    "deletable": true,
    "editable": true
   },
   "source": [
    "<span style=\"background-color:cyan\">KT:CC: Chapter summary really needed.</span>\n",
    "We would like to suggest two different further reading avenues. The first is to deepen\n",
    "the readers understanding of positional astronomy. For this we recommend reading:\n",
    "\n",
    "### <a id='pos_sec_pa'></a>\n",
    "\n",
    "* [<cite data-cite='Duffett2011'>Practical Astronomy with your calculator or spreadsheet </cite> &#10548;](https://books.google.co.za/books?id=MTGYxQyW998C&dq=astronomy+with+your+calculator+or+spreadsheet) : forms the backbone of this chapter and is the main reference.\n",
    "\n",
    "The second aim is to get the reader more excited about astronomy in general. We recommend two books to accomplish this:\n",
    "\n",
    "### <a id='pos_sec_ga'></a>\n",
    "\n",
    "* [<cite data-cite='Seeds2015'>Foundations of Astronomy</cite> &#10548;](https://books.google.co.za/books/about/Foundations_of_Astronomy.html?id=77YwOLGzth8C&redir_esc=y) : a light easy to read introduction to astronomy.\n",
    "* [<cite data-cite='Zeilik1998'>Introductory Astronomy and Astrophysics</cite> &#10548;](https://books.google.co.za/books?id=iH7vAAAAMAAJ&q=Introductory+Astronomy+and+Astrophysics) : a more in depth and technical introduction to astronomy. \n",
    "<!--We also highly recommend doing the online course: [Introduction to Astronomy &#10548;](https://www.coursera.org/course/introastro)-->"
   ]
  },
  {
   "cell_type": "markdown",
   "metadata": {
    "deletable": true,
    "editable": true
   },
   "source": [
    "***\n",
    "\n",
    "Next: [Chapter 4: Visibility Space](../4_Visibility_Space/4_0_introduction.ipynb)"
   ]
  }
 ],
 "metadata": {
  "kernelspec": {
   "display_name": "Python 2",
   "language": "python",
   "name": "python2"
  },
  "language_info": {
   "codemirror_mode": {
    "name": "ipython",
    "version": 2
   },
   "file_extension": ".py",
   "mimetype": "text/x-python",
   "name": "python",
   "nbconvert_exporter": "python",
   "pygments_lexer": "ipython2",
   "version": "2.7.12"
  }
 },
 "nbformat": 4,
 "nbformat_minor": 0
}
