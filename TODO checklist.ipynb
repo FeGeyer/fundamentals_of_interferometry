{
 "cells": [
  {
   "cell_type": "code",
   "execution_count": 3,
   "metadata": {},
   "outputs": [
    {
     "name": "stdout",
     "output_type": "stream",
     "text": [
      "test\n"
     ]
    },
    {
     "data": {
      "text/plain": [
       "'.'"
      ]
     },
     "execution_count": 3,
     "metadata": {},
     "output_type": "execute_result"
    }
   ],
   "source": [
    "print('test')\n",
    "import os\n",
    "import sys\n",
    "os"
   ]
  },
  {
   "cell_type": "markdown",
   "metadata": {},
   "source": [
    "- Introduction and chapter 1 subsections checked\n",
    "- Todo Py3ize from section 3 onwards\n",
    "- Todo check links from TOC"
   ]
  },
  {
   "cell_type": "markdown",
   "metadata": {},
   "source": [
    "create feature branch (*ruby: py2to3 on blh1*)"
   ]
  },
  {
   "cell_type": "markdown",
   "metadata": {},
   "source": [
    "move all notebooks from python2 kernel to python3 kernel"
   ]
  },
  {
   "cell_type": "markdown",
   "metadata": {},
   "source": [
    "<input type=\"checkbox\"> push to origin"
   ]
  },
  {
   "cell_type": "markdown",
   "metadata": {},
   "source": [
    "<input type=\"checkbox\"> review updates with Ben"
   ]
  },
  {
   "cell_type": "markdown",
   "metadata": {},
   "source": [
    "<input type=\"checkbox\"> create pull request"
   ]
  },
  {
   "cell_type": "markdown",
   "metadata": {},
   "source": [
    "<input type=\"checkbox\"> merge with master"
   ]
  },
  {
   "cell_type": "markdown",
   "metadata": {},
   "source": [
    "### Running with python3 kernel"
   ]
  },
  {
   "cell_type": "markdown",
   "metadata": {},
   "source": [
    "\n",
    "0_Introduction\n",
    "\n",
    "Already fixed by Ben\n"
   ]
  },
  {
   "cell_type": "markdown",
   "metadata": {},
   "source": [
    "1_Radio_Science\n",
    "\n",
    "Some already fixed by Ben\n",
    "\n",
    "\n",
    "**Uncorrected features**\n",
    "* I did not check all the links in the text\n",
    "* There are formatting issues in the markup text, I did not fix those.\n",
    "\n",
    "ruby:\n",
    "* corrected TOC links where it was obvious and possible\n",
    "* some notebooks were already Py3\n",
    "* py2to3 done (**\"version\": \"3.5.2\"**)\n",
    "* commit to py2to3 branch on blh1"
   ]
  },
  {
   "cell_type": "markdown",
   "metadata": {},
   "source": [
    "2_Mathematical_Groundwork\n",
    "\n",
    "**Uncorrected features**\n",
    "* I did not check all the links in the text\n",
    "* adhering to my stringent rule of \"Pep8 onto thyself\", I have suppressed my desire to clean the code\n",
    "* I saved the notebooks without any output, which means some block in the comment sections are also not displayed.\n",
    "I cannot make a call on this, so will leave that up to the RARG to deside what to show and what not.\n",
    "\n",
    "ruby:\n",
    "* corrected TOC links where it was obvious and possible\n",
    "* some notebooks were already Py3\n",
    "* py2to3 done (**\"version\": \"3.5.2\"**)\n",
    "* commit to py2to3 branch on blh1"
   ]
  },
  {
   "cell_type": "markdown",
   "metadata": {},
   "source": [
    "3_Positional_Astronomy\n",
    "\n",
    "**Uncorrected features**\n",
    "* I did not check all the links in the text\n",
    "* Did not check slider functionality, only updated widgets where functionality has changed and it was not longer working\n",
    "* adhering to my stringent rule of \"Pep8 onto thyself\", I have suppressed my desire to clean the code\n",
    "* I saved the notebooks without any output, which means some block in the comment sections are also not displayed.\n",
    "I cannot make a call on this, so will leave that up to the RARG to deside what to show and what not.\n",
    "\n",
    "* Missing files in *3_1_equatorial_coordinates.ipynb*\n",
    "```\n",
    "data/fits/haslam/lambda_haslam408_nofilt.fits\n",
    "```\n",
    "\n",
    "ruby:\n",
    "* corrected TOC links where it was obvious and possible\n",
    "* some notebooks were already Py3\n",
    "* updated xrange (2.7) -> range (3.x)\n",
    "* py2to3 done (**\"version\": \"3.5.2\"**)\n",
    "* commit to py2to3 branch on blh1"
   ]
  },
  {
   "cell_type": "markdown",
   "metadata": {},
   "source": [
    "4_Visibility_Space\n",
    "\n",
    "**Uncorrected features**\n",
    "* I did not check all the links in the text\n",
    "* Did not check slider functionality, only updated widgets where functionality has changed and it was not longer working\n",
    "* adhering to my stringent rule of \"Pep8 onto thyself\", I have suppressed my desire to clean the code\n",
    "* I saved the notebooks without any output, which means some block in the comment sections are also not displayed.\n",
    "I cannot make a call on this, so will leave that up to the RARG to deside what to show and what not.\n",
    "\n",
    "\n",
    "ruby:\n",
    "* corrected TOC links where it was obvious and possible\n",
    "* some notebooks were already Py3\n",
    "* py2to3 done (**\"version\": \"3.5.2\"**)\n",
    "* commit to py2to3 branch on blh1"
   ]
  },
  {
   "cell_type": "markdown",
   "metadata": {},
   "source": [
    "5_Imaging\n",
    "\n",
    "**Uncorrected features**\n",
    "* I did not check all the links in the text\n",
    "* adhering to my stringent rule of \"Pep8 onto thyself\", I have suppressed my desire to clean the code\n",
    "* I saved the notebooks without any output, which means some block in the comment sections are also not displayed.\n",
    "I cannot make a call on this, so will leave that up to the RARG to deside what to show and what not.\n",
    "* Missing files in *5_4_imaging_weights.ipynb*\n",
    "```\n",
    "'../data/fits/psfs/meerkat_16_6hr_1.1ghz_briggs2.0-psf.fits'\n",
    "'../data/fits/psfs/meerkat_16_6hr_1.1ghz_briggs1.0-psf.fits'\n",
    "'../data/fits/psfs/meerkat_16_6hr_1.1ghz_briggs0.5-psf.fits'\n",
    "'../data/fits/psfs/meerkat_16_6hr_1.1ghz_briggs0-psf.fits'\n",
    "'../data/fits/psfs/meerkat_16_6hr_1.1ghz_briggs-0.5-psf.fits'\n",
    "'../data/fits/psfs/meerkat_16_6hr_1.1ghz_briggs-1-psf.fits'\n",
    "'../data/fits/psfs/meerkat_16_6hr_1.1ghz_briggs-2-psf.fits'\n",
    "```\n",
    "\n",
    "\n",
    "ruby:\n",
    "* corrected TOC links where it was obvious and possible\n",
    "* updated `xrange` (2.7) -> `range` (3.x)\n",
    "* explicit integer division (`//`)\n",
    "* py2to3 done (**\"version\": \"3.5.2\"**)\n",
    "* commit to py2to3 branch on blh1\n",
    "* update commands for aplpy\n",
    "```\n",
    "gc1.hide_axis_labels()\n",
    "gc1.hide_tick_labels()\n",
    "```\n",
    "to\n",
    "```\n",
    "gc1.axis_labels.hide()\n",
    "gc1.tick_labels.hide()\n",
    "gc1.ticks.hide()\n",
    "```"
   ]
  },
  {
   "cell_type": "markdown",
   "metadata": {},
   "source": [
    "6_Deconvolution\n",
    "\n",
    "**Uncorrected features**\n",
    "* I did not check all the links in the text\n",
    "* adhering to my stringent rule of \"Pep8 onto thyself\", I have suppressed my desire to clean the code\n",
    "* I saved the notebooks without any output, which means some block in the comment sections are also not displayed.\n",
    "I cannot make a call on this, so will leave that up to the RARG to deside what to show and what not.\n",
    "\n",
    "\n",
    "ruby:\n",
    "* corrected TOC links where it was obvious and possible\n",
    "* explicit integer division (`//`) for indices in `subtractPSF`\n",
    "* py2to3 done (**\"version\": \"3.5.2\"**)\n",
    "* commit to py2to3 branch on blh1\n",
    "\n",
    "\n",
    "* (*clark_clean_assignment.ipynb*) update paths\n",
    "```\n",
    "fh = fits.open('data/KAT-7_6h60s_dec-30_10MHz_10chans_uniform_n100-dirty.fits')\n",
    "fh = fits.open('data/KAT-7_6h60s_dec-30_10MHz_10chans_uniform_n100-psf.fits')\n",
    "```\n",
    "to\n",
    "```\n",
    "fh = fits.open('../data/fits/deconv/KAT-7_6h60s_dec-30_10MHz_10chans_uniform_n100-dirty.fits')\n",
    "fh = fits.open('../data/fits/deconv/KAT-7_6h60s_dec-30_10MHz_10chans_uniform_n100-psf.fits')\n",
    "```\n",
    "\n",
    "* update commands for aplpy\n",
    "```\n",
    "gc1.hide_axis_labels()\n",
    "gc1.hide_tick_labels()\n",
    "```\n",
    "to\n",
    "```\n",
    "gc1.axis_labels.hide()\n",
    "gc1.tick_labels.hide()\n",
    "gc1.ticks.hide()\n",
    "```\n",
    "\n",
    "* (*6_3_clean_flavours.ipynb*) got unexpected error using `recenter` command in `plotDeconvRestored` function\n",
    "```\n",
    "TypeError: WCS projection has 4 dimensions, so expected 2 (an Nx4 array and the origin argument) or 5 arguments (the position in each dimension, and the origin argument). Instead, 3 arguments were given.\n",
    "```\n",
    "Found answer on https://github.com/aplpy/aplpy/issues/423    \n",
    "`I resolved it by downgrading to <Version: 1.1.1> as anything >=2.0 induces the error`"
   ]
  },
  {
   "cell_type": "markdown",
   "metadata": {},
   "source": [
    "7_Observing_Systems\n",
    "\n",
    "**Uncorrected features**\n",
    "* I did not check all the links in the text\n",
    "* adhering to my stringent rule of \"Pep8 onto thyself\", I have suppressed my desire to clean the code\n",
    "* I saved the notebooks without any output, which means some block in the comment sections are also not displayed.\n",
    "I cannot make a call on this, so will leave that up to the RARG to deside what to show and what not.\n",
    "\n",
    "\n",
    "ruby:\n",
    "* corrected TOC links where it was obvious and possible\n",
    "* py2to3 done (**\"version\": \"3.5.2\"**)\n",
    "* commit to py2to3 branch on blh1\n",
    "* (*7_3_analogue.ipynb*) uncommented savefile generating numpy array needed in next notebook\n",
    "```\n",
    "# save spectrum for use in the next section\n",
    "np.savez('data/analogue_spectrum.npz', obsSpectrum, ifFreqs)\n",
    "```\n",
    "* (*7_3_analogue.ipynb*) update path to point to default `data` directory instead of creating a special one\n",
    "```\n",
    "np.savez('../data/analogue_spectrum.npz', obsSpectrum, ifFreqs)\n",
    "```\n",
    "* (*7_4_digital.ipynb*) update path to `data` directory and made comment more explicit\n",
    "```\n",
    "# load observed sprectum generated in previod Analogue Electronics notebook\n",
    "npzfile = np.load('../data/analogue_spectrum.npz')\n",
    "```\n",
    "* (*7_7_propagation_effects.ipynb*) Explicit import statement required `import slimscat` -> `from slimscat import slimscat`"
   ]
  },
  {
   "cell_type": "markdown",
   "metadata": {},
   "source": [
    "8_Calibration\n",
    "\n",
    "**Uncorrected features**\n",
    "* I did not check all the links in the text\n",
    "* adhering to my stringent rule of \"Pep8 onto thyself\", I have suppressed my desire to clean the code\n",
    "* I saved the notebooks without any output, which means some block in the comment sections are also not displayed.\n",
    "I cannot make a call on this, so will leave that up to the RARG to deside what to show and what not.\n",
    "* *8_5_further_reading_and_references.ipynb*     \n",
    "TOC links (in header and footer) to pages that do not exist:    \n",
    "`http://blh1.sdp.kat.ac.za:8889/notebooks/9_Practical/9_0_introduction.ipynb`    \n",
    "```\n",
    "Next: 9. Pracrical Advice for Reducing a Data Set and Recognizing Errors\n",
    "```\n",
    "\n",
    "ruby:\n",
    "* corrected TOC links where it was obvious and possible\n",
    "* some notebooks were already Py3\n",
    "* updated `xrange` (2.7) -> `range` (3.x)   \n",
    "* explicit integer division (`//`) for indices in `err_func`\n",
    "* py2to3 done (**\"version\": \"3.5.2\"**)\n",
    "* commit to py2to3 branch on blh1"
   ]
  },
  {
   "cell_type": "markdown",
   "metadata": {},
   "source": [
    "9_Practical\n",
    "\n",
    "**Uncorrected features**\n",
    "* *9_3_Observing_smearing.ipynb*     \n",
    "TOC links to pages that do not exist:\n",
    "```\n",
    "Previous: 9.2. Calibration\n",
    "Next: 9.4. Line observations: calibration and imaging issues\n",
    "```\n",
    "\n",
    "ruby:\n",
    "* corrected TOC links where it was obvious and possible\n",
    "* py2to3 done (**\"version\": \"3.5.2\"**)\n",
    "* commit to py2to3 branch on blh1"
   ]
  },
  {
   "cell_type": "code",
   "execution_count": null,
   "metadata": {},
   "outputs": [],
   "source": [
    "\n"
   ]
  }
 ],
 "metadata": {
  "kernelspec": {
   "display_name": ".venv",
   "language": "python",
   "name": ".venv"
  },
  "language_info": {
   "codemirror_mode": {
    "name": "ipython",
    "version": 3
   },
   "file_extension": ".py",
   "mimetype": "text/x-python",
   "name": "python",
   "nbconvert_exporter": "python",
   "pygments_lexer": "ipython3",
   "version": "3.5.2"
  }
 },
 "nbformat": 4,
 "nbformat_minor": 4
}
