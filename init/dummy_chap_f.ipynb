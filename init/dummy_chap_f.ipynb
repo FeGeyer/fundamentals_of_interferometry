{
 "cells": [
  {
   "cell_type": "code",
   "execution_count": 1,
   "metadata": {
    "collapsed": false,
    "deletable": true,
    "editable": true
   },
   "outputs": [
    {
     "data": {
      "text/html": [
       "<script>var aval=document.getElementById(\"chap_f\");    if(aval!==null){    aval.href=\"../init/dummy_chap_f.ipynb#chap_f\";    aval.title=\"\";    aval.innerHTML = \"&#8493 1 Chapter F\";    }var cval=document.getElementsByClassName(\"chap_f\");    var i;    for (i = 0; i < cval.length; i++) {    cval[i].href=\"../init/dummy_chap_f.ipynb#chap_f\";    cval[i].title=\"\";    cval[i].innerHTML = \"&#8493 1 Chapter F &#8631\";    }</script>"
      ],
      "text/plain": [
       "<IPython.core.display.HTML object>"
      ]
     },
     "execution_count": 1,
     "metadata": {},
     "output_type": "execute_result"
    }
   ],
   "source": [
    "##################################\n",
    "#Insert the following text on each notebook\n",
    "import os, sys\n",
    "init_path = os.path.abspath(os.path.join('../init/'))\n",
    "sys.path.append(init_path)\n",
    "\n",
    "import pickle\n",
    "from incfunc import init_ipyref_filename, ipy_label, ipy_ref\n",
    "from ipywidgets import widgets\n",
    "from IPython.display import HTML \n",
    "\n",
    "ipyrefname=init_ipyref_filename()\n",
    "\n",
    "\n",
    "try:\n",
    "    init_ipyref\n",
    "except NameError:\n",
    "    f = open(ipyrefname, 'rb')\n",
    "    sdict = pickle.load(f)\n",
    "    f.close()\n",
    "    debug_lvl=1\n",
    "    if debug_lvl > 10: print 'loaded', ipyrefname\n",
    "else :\n",
    "    if debug_lvl > 10: print \"Running through mainlist for updating reference\"\n",
    "\n",
    "if debug_lvl > 100:\n",
    "    print sdict.keys()\n",
    "    print sdict.values()\n",
    "##################################\n",
    "lfilename='../init/dummy_chap_f.ipynb'\n",
    "##################################\n",
    "    \n",
    "idstr='chap_f'\n",
    "titlestr='Chapter F'\n",
    "rstr=ipy_label(sdict, cntname='chapter', labelstr=idstr, titlestr=titlestr,  sfilename=lfilename)\n",
    "HTML(rstr)"
   ]
  },
  {
   "cell_type": "markdown",
   "metadata": {
    "deletable": true,
    "editable": true
   },
   "source": [
    "# <a id='chap_f'></a>\n",
    "\n",
    "Insert the Chapter E text here."
   ]
  }
 ],
 "metadata": {
  "kernelspec": {
   "display_name": "Python 2",
   "language": "python",
   "name": "python2"
  },
  "language_info": {
   "codemirror_mode": {
    "name": "ipython",
    "version": 2
   },
   "file_extension": ".py",
   "mimetype": "text/x-python",
   "name": "python",
   "nbconvert_exporter": "python",
   "pygments_lexer": "ipython2",
   "version": "2.7.6"
  }
 },
 "nbformat": 4,
 "nbformat_minor": 2
}
