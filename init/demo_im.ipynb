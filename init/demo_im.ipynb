{
 "cells": [
  {
   "cell_type": "code",
   "execution_count": 1,
   "metadata": {
    "collapsed": false,
    "deletable": true,
    "editable": true
   },
   "outputs": [
    {
     "data": {
      "text/html": [
       "<script>var aval=document.getElementById(\"prac_sec_test3\");    if(aval!==null){    aval.href=\"../init/demo_im.ipynb#prac_sec_test3\";    aval.title=\"\";    aval.innerHTML = \"&sect 9.3 Practical Section Test3\";    }var cval=document.getElementsByClassName(\"prac_sec_test3\");    var i;    for (i = 0; i < cval.length; i++) {    cval[i].href=\"../init/demo_im.ipynb#prac_sec_test3\";    cval[i].title=\"\";    cval[i].innerHTML = \"&sect 9.3 Practical Section Test3 &#8631\";    }</script>"
      ],
      "text/plain": [
       "<IPython.core.display.HTML object>"
      ]
     },
     "execution_count": 1,
     "metadata": {},
     "output_type": "execute_result"
    }
   ],
   "source": [
    "#Created: sirothia@gmail.com 20170207\n",
    "#for label and ref example\n",
    "\n",
    "##################################\n",
    "#Insert the following text on each notebook\n",
    "import os, sys\n",
    "init_path = os.path.abspath(os.path.join('../init/'))\n",
    "sys.path.append(init_path)\n",
    "\n",
    "import pickle\n",
    "from incfunc import init_ipyref_filename, ipy_label, ipy_ref\n",
    "from IPython.display import HTML \n",
    "\n",
    "lfilename='../init/demo_im.ipynb'\n",
    "ipyrefname=init_ipyref_filename()\n",
    "\n",
    "try:\n",
    "    init_ipyref\n",
    "except NameError:\n",
    "    f = open(ipyrefname, 'rb')\n",
    "    sdict = pickle.load(f)\n",
    "    f.close()\n",
    "    debug_lvl=0    \n",
    "    if debug_lvl > 10: print 'loaded', ipyrefname\n",
    "else :\n",
    "    if debug_lvl > 10: print \"Running through mainlist for updating reference\"\n",
    "\n",
    "if debug_lvl > 100:\n",
    "    print sdict.keys()\n",
    "    print sdict.values()\n",
    "##################################\n",
    "\n",
    "idstr='prac_sec_test3'\n",
    "titlestr='Practical Section Test3'\n",
    "lpopupstr=''\n",
    "rstr=ipy_label(sdict, 'section', idstr, titlestr, popupstr=lpopupstr, sfilename=lfilename)\n",
    "HTML(rstr)"
   ]
  },
  {
   "cell_type": "markdown",
   "metadata": {
    "deletable": true,
    "editable": true
   },
   "source": [
    "## <a id='prac_sec_test3'></a>\n",
    "\n",
    "The section is inserted to test the section updates"
   ]
  },
  {
   "cell_type": "code",
   "execution_count": 2,
   "metadata": {
    "collapsed": false,
    "deletable": true,
    "editable": true
   },
   "outputs": [
    {
     "data": {
      "text/html": [
       "<script>var cval=document.getElementsByClassName(\"prac_sec_test2_xyz3\");    var i;    for (i = 0; i < cval.length; i++) {    cval[i].href=\"../init/demo_calib.ipynb#prac_sec_test2\";    cval[i].title=\"\";    cval[i].innerHTML = \"&sect 9.2  &#8594\";    }</script>"
      ],
      "text/plain": [
       "<IPython.core.display.HTML object>"
      ]
     },
     "execution_count": 2,
     "metadata": {},
     "output_type": "execute_result"
    }
   ],
   "source": [
    "idstr='prac_sec_test2'\n",
    "idcntr='_xyz3'\n",
    "\n",
    "rstr=ipy_ref(sdict, idstr, idsub=idcntr, sfilename=lfilename, debug_lvl=debug_lvl)\n",
    "HTML(rstr)"
   ]
  },
  {
   "cell_type": "markdown",
   "metadata": {
    "deletable": true,
    "editable": true
   },
   "source": [
    "For demo we will refer <a class='prac_sec_test2_xyz3'></a>"
   ]
  },
  {
   "cell_type": "code",
   "execution_count": 3,
   "metadata": {
    "collapsed": false,
    "deletable": true,
    "editable": true
   },
   "outputs": [
    {
     "data": {
      "text/html": [
       "<script>var aval=document.getElementById(\"prac_sec_test4\");    if(aval!==null){    aval.href=\"../init/demo_im.ipynb#prac_sec_test4\";    aval.title=\"\";    aval.innerHTML = \"&sect 9.4 Practical Section Test4\";    }var cval=document.getElementsByClassName(\"prac_sec_test4\");    var i;    for (i = 0; i < cval.length; i++) {    cval[i].href=\"../init/demo_im.ipynb#prac_sec_test4\";    cval[i].title=\"\";    cval[i].innerHTML = \"&sect 9.4 Practical Section Test4 &#8631\";    }</script>"
      ],
      "text/plain": [
       "<IPython.core.display.HTML object>"
      ]
     },
     "execution_count": 3,
     "metadata": {},
     "output_type": "execute_result"
    }
   ],
   "source": [
    "idstr='prac_sec_test4';\n",
    "titlestr='Practical Section Test4';\n",
    "lpopupstr=''\n",
    "rstr=ipy_label(sdict, 'section', idstr, titlestr, popupstr=lpopupstr, sfilename=lfilename)\n",
    "HTML(rstr)"
   ]
  },
  {
   "cell_type": "markdown",
   "metadata": {
    "deletable": true,
    "editable": true
   },
   "source": [
    "# <a id='prac_sec_test4'></a>\n",
    "\n",
    "The section is inserted to test the section updates"
   ]
  },
  {
   "cell_type": "code",
   "execution_count": 4,
   "metadata": {
    "collapsed": false,
    "deletable": true,
    "editable": true
   },
   "outputs": [
    {
     "data": {
      "text/html": [
       "<script>var cval=document.getElementsByClassName(\"prac_sec_test2_xyz\");    var i;    for (i = 0; i < cval.length; i++) {    cval[i].href=\"../init/demo_calib.ipynb#prac_sec_test2\";    cval[i].title=\"\";    cval[i].innerHTML = \"&sect 9.2  &#8594\";    }</script>"
      ],
      "text/plain": [
       "<IPython.core.display.HTML object>"
      ]
     },
     "execution_count": 4,
     "metadata": {},
     "output_type": "execute_result"
    }
   ],
   "source": [
    "if debug_lvl > 10:\n",
    "    print sdict.keys()\n",
    "    print sdict.values()\n",
    "\n",
    "idstr='prac_sec_test2'\n",
    "idcntr='_xyz'\n",
    "rstr=ipy_ref(sdict, idstr, titlestr='', idsub=idcntr, sfilename=lfilename, debug_lvl=debug_lvl)\n",
    "HTML(rstr)"
   ]
  },
  {
   "cell_type": "markdown",
   "metadata": {
    "deletable": true,
    "editable": true
   },
   "source": [
    "For second demo we will refer <a class='prac_sec_test2_xyz'></a>\n",
    "\n",
    "For external reference you may try arrow $\\looparrowright$"
   ]
  }
 ],
 "metadata": {
  "kernelspec": {
   "display_name": "Python 2",
   "language": "python",
   "name": "python2"
  },
  "language_info": {
   "codemirror_mode": {
    "name": "ipython",
    "version": 2
   },
   "file_extension": ".py",
   "mimetype": "text/x-python",
   "name": "python",
   "nbconvert_exporter": "python",
   "pygments_lexer": "ipython2",
   "version": "2.7.6"
  }
 },
 "nbformat": 4,
 "nbformat_minor": 2
}
